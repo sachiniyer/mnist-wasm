{
 "cells": [
  {
   "cell_type": "markdown",
   "metadata": {},
   "source": [
    "SRC: https://github.com/geohot/ai-notebooks/blob/master/mnist_from_scratch.ipynb"
   ]
  },
  {
   "cell_type": "code",
   "execution_count": 120,
   "metadata": {
    "collapsed": false,
    "jupyter": {
     "outputs_hidden": false
    }
   },
   "outputs": [
    {
     "name": "stdout",
     "output_type": "stream",
     "text": [
      "%pylab is deprecated, use %matplotlib inline and import the required libraries.\n",
      "Populating the interactive namespace from numpy and matplotlib\n"
     ]
    },
    {
     "name": "stderr",
     "output_type": "stream",
     "text": [
      "/home/siyer/.pyenv/versions/3.10.10/envs/ai/lib/python3.10/site-packages/IPython/core/magics/pylab.py:162: UserWarning: pylab import has clobbered these variables: ['save']\n",
      "`%matplotlib` prevents importing * from pylab and numpy\n",
      "  warn(\"pylab import has clobbered these variables: %s\"  % clobbered +\n"
     ]
    }
   ],
   "source": [
    "%pylab inline\n",
    "import numpy as np\n",
    "from tqdm import trange\n",
    "from torch.autograd import Variable\n",
    "import torch\n",
    "np.set_printoptions(suppress=True)"
   ]
  },
  {
   "cell_type": "code",
   "execution_count": 2,
   "metadata": {
    "collapsed": false,
    "jupyter": {
     "outputs_hidden": false
    }
   },
   "outputs": [],
   "source": [
    "# load the mnist dataset\n",
    "\n",
    "def fetch(url):\n",
    "    import requests, gzip, os, hashlib, numpy\n",
    "    fp = os.path.join(\"/tmp\", hashlib.md5(url.encode('utf-8')).hexdigest())\n",
    "    if os.path.isfile(fp):\n",
    "        with open(fp, \"rb\") as f:\n",
    "            dat = f.read()\n",
    "    else:\n",
    "        with open(fp, \"wb\") as f:\n",
    "            dat = requests.get(url).content\n",
    "            f.write(dat)\n",
    "    return numpy.frombuffer(gzip.decompress(dat), dtype=np.uint8).copy()\n",
    "X_train = fetch(\"http://yann.lecun.com/exdb/mnist/train-images-idx3-ubyte.gz\")[0x10:].reshape((-1, 28, 28))\n",
    "Y_train = fetch(\"http://yann.lecun.com/exdb/mnist/train-labels-idx1-ubyte.gz\")[8:]\n",
    "X_test = fetch(\"http://yann.lecun.com/exdb/mnist/t10k-images-idx3-ubyte.gz\")[0x10:].reshape((-1, 28, 28))\n",
    "Y_test = fetch(\"http://yann.lecun.com/exdb/mnist/t10k-labels-idx1-ubyte.gz\")[8:]"
   ]
  },
  {
   "cell_type": "code",
   "execution_count": null,
   "metadata": {
    "collapsed": false,
    "jupyter": {
     "outputs_hidden": false
    }
   },
   "outputs": [],
   "source": [
    "# numpy forward pass\n",
    "def forward(x):\n",
    "    x = x.dot(l1)\n",
    "    x = np.maximum(x, 0)\n",
    "    x = x.dot(l2)  \n",
    "    return x"
   ]
  },
  {
   "cell_type": "code",
   "execution_count": 3,
   "metadata": {
    "collapsed": false,
    "jupyter": {
     "outputs_hidden": false
    }
   },
   "outputs": [],
   "source": [
    "def numpy_eval():\n",
    "    Y_test_preds_out = forward(X_test.reshape((-1, 28*28)))\n",
    "    Y_test_preds = np.argmax(Y_test_preds_out, axis=1)\n",
    "    return (Y_test == Y_test_preds).mean()"
   ]
  },
  {
   "cell_type": "code",
   "execution_count": 34,
   "metadata": {
    "collapsed": false,
    "jupyter": {
     "outputs_hidden": false
    }
   },
   "outputs": [
    {
     "name": "stdout",
     "output_type": "stream",
     "text": [
      "(784, 128)\n"
     ]
    }
   ],
   "source": [
    "# numpy training\n",
    "def layer_init(m, h):\n",
    "    # gaussian is strong\n",
    "    #ret = np.random.randn(m,h)/np.sqrt(m*h)\n",
    "    # uniform is stronger\n",
    "    ret = np.random.uniform(-1., 1., size=(m,h))/np.sqrt(m*h)\n",
    "    return ret.astype(np.float32)\n",
    "\n",
    "# reinit\n",
    "np.random.seed(1337)\n",
    "l1 = layer_init(784, 128)\n",
    "l2 = layer_init(128, 10)"
   ]
  },
  {
   "cell_type": "code",
   "execution_count": 103,
   "metadata": {
    "collapsed": false,
    "jupyter": {
     "outputs_hidden": false
    }
   },
   "outputs": [],
   "source": [
    "# numpy forward and backward pass\n",
    "def logsumexp(x):\n",
    "    #return np.log(np.exp(x).sum(axis=1))\n",
    "    # tlo\n",
    "    c = x.max(axis=1)\n",
    "    return c + np.log(np.exp(x-c.reshape((-1, 1))).sum(axis=1))"
   ]
  },
  {
   "cell_type": "code",
   "execution_count": 267,
   "metadata": {
    "collapsed": false,
    "jupyter": {
     "outputs_hidden": false
    }
   },
   "outputs": [],
   "source": [
    "def forward_backward(x, y):\n",
    "    # training\n",
    "    out = np.zeros((len(y),10), np.float32)\n",
    "    out[range(out.shape[0]),y] = 1 # one-hot encoding\n",
    "\n",
    "    # forward pass\n",
    "    x_l1 = x.dot(l1) # dot product with first layer (BS, 128)\n",
    "    x_relu = np.maximum(x_l1, 0) # take relu (BS, 128)\n",
    "    x_l2 = x_relu.dot(l2) # dot product with second layer (BS, 10)\n",
    "    x_lsm = x_l2 - logsumexp(x_l2).reshape((-1, 1)) # subtract all 10 valyes by logsumexp (BS, 10) this is actually softmax\n",
    "    x_loss = (-out * x_lsm).mean(axis=1) # calculate loss with just mean of -target * x_lsm\n",
    "    \n",
    "    # backward pass\n",
    "\n",
    "    # will involve x_lsm, x_l2, out, d_out and produce dx_sm\n",
    "    d_out = -out / len(y) # divide - one-hot encodings by batch size?\n",
    "\n",
    "    # derivative of logsoftmax\n",
    "    # https://github.com/torch/nn/blob/master/lib/THNN/generic/LogSoftMax.c\n",
    "    dx_lsm = d_out - np.exp(x_lsm)*d_out.sum(axis=1).reshape((-1, 1))\n",
    "    print(dx_lsm)\n",
    "    # derivative of l2\n",
    "    d_l2 = x_relu.T.dot(dx_lsm)\n",
    "    dx_relu = dx_lsm.dot(l2.T)\n",
    "\n",
    "    # derivative of relu\n",
    "    dx_l1 = (x_relu > 0).astype(np.float32) * dx_relu\n",
    "\n",
    "    # derivative of l1\n",
    "    d_l1 = x.T.dot(dx_l1)\n",
    "  \n",
    "    #return x_loss, x_l2, d_l1, d_l2\n",
    "    return x_l2, d_l1, d_l2"
   ]
  },
  {
   "cell_type": "code",
   "execution_count": 268,
   "metadata": {
    "collapsed": false,
    "jupyter": {
     "outputs_hidden": false
    }
   },
   "outputs": [
    {
     "name": "stderr",
     "output_type": "stream",
     "text": [
      "\r",
      "  0%|                                                                                                                                                                                                                                                                                                     | 0/1 [00:00<?, ?it/s]"
     ]
    },
    {
     "name": "stderr",
     "output_type": "stream",
     "text": [
      "\r",
      "100%|████████████████████████████████████████████████████████████████████████████████████████████████████████████████████████████████████████████████████████████████████████████████████████████████████████████████████████████████████████████████████████████████████████████████████████████| 1/1 [00:00<00:00, 555.46it/s]"
     ]
    },
    {
     "name": "stdout",
     "output_type": "stream",
     "text": [
      "[[-0.00031427  0.00000628  0.00003589  0.00007358  0.00000043  0.00011257\n",
      "   0.00006568  0.00000254  0.00001434  0.00000294]\n",
      " [ 0.00103939  0.03800993  0.00070066 -0.05480447  0.00085027  0.00127654\n",
      "   0.0074891   0.00048191  0.00150887  0.00344776]\n",
      " [ 0.00009126  0.0032457   0.00007189  0.00037285  0.00037818  0.00004545\n",
      "   0.0000214  -0.00776216  0.00018158  0.00335379]]\n"
     ]
    },
    {
     "name": "stderr",
     "output_type": "stream",
     "text": [
      "\n"
     ]
    },
    {
     "data": {
      "text/plain": [
       "[<matplotlib.lines.Line2D at 0x7f5bfca45480>]"
      ]
     },
     "execution_count": 268,
     "metadata": {},
     "output_type": "execute_result"
    },
    {
     "data": {
      "image/png": "[encoded data removed]",
      "text/plain": [
       "<Figure size 640x480 with 1 Axes>"
      ]
     },
     "metadata": {},
     "output_type": "display_data"
    }
   ],
   "source": [
    "lr = 0.001\n",
    "BS = 3\n",
    "losses, accuracies = [], []\n",
    "for i in (t := trange(1)):\n",
    "    samp = np.random.randint(0, X_train.shape[0], size=(BS))\n",
    "    X = X_train[samp].reshape((-1, 28*28)) # (BS, 784)\n",
    "    Y = Y_train[samp] # (BS, 1)\n",
    "    #x_loss, x_l2, d_l1, d_l2 = forward_backward(X, Y)\n",
    "    x_l2, d_l1, d_l2 = forward_backward(X, Y)\n",
    "\n",
    "  \n",
    "    cat = np.argmax(x_l2, axis=1)\n",
    "    accuracy = (cat == Y).mean()\n",
    "  \n",
    "    # SGD\n",
    "    l1 = l1 - lr*d_l1\n",
    "    l2 = l2 - lr*d_l2\n",
    "  \n",
    "    #loss = x_loss.mean()\n",
    "    #losses.append(loss)\n",
    "    accuracies.append(accuracy)\n",
    "    #t.set_description(\"loss %.2f accuracy %.2f\" % (loss, accuracy))\n",
    "    \n",
    "plt.ylim(-0.1, 1.1)\n",
    "#plot(losses)\n",
    "plot(accuracies)"
   ]
  },
  {
   "cell_type": "code",
   "execution_count": 110,
   "metadata": {
    "collapsed": false,
    "jupyter": {
     "outputs_hidden": false
    }
   },
   "outputs": [
    {
     "data": {
      "text/plain": [
       "0.8418"
      ]
     },
     "execution_count": 110,
     "metadata": {},
     "output_type": "execute_result"
    }
   ],
   "source": [
    "# evaluate on test set\n",
    "# over 96% with numpy, wow numpy is better than pytorch!\n",
    "# note: add 0.01% more accuracy with float16\n",
    "numpy_eval()"
   ]
  },
  {
   "cell_type": "code",
   "execution_count": 22,
   "metadata": {
    "collapsed": false,
    "jupyter": {
     "outputs_hidden": false
    }
   },
   "outputs": [
    {
     "name": "stdout",
     "output_type": "stream",
     "text": [
      "[0 0 0 0 0 0 0 0 0 0 0 0 0 0 0 0 0 0 0 0 0 0 0 0 0 0 0 0 0 0 0 0 0 0 0 0 0\n",
      " 0 0 0 0 0 0 0 0 0 0 0 0 0 0 0 0 0 0 0 0 0 0 0 0 0 0 0 0 0 0 0 0 0 0 0 0 0\n",
      " 0 0 0 0 0 0 0 0 0 0 0 0 0 0 0 0 0 0 0 0 0 0 0 0 0 0 0 0 0 0 0 0 0 0 0 0 0\n",
      " 0 0 0 0 0 1 1 1 1 1 1 1 1 1 1 1 1 1 1 1 1 1 1 1 1 0 0 0 0 0 0 0 0 1 1 1 1\n",
      " 1 1 1 1 1 1 1 1 1 1 1 1 1 1 1 1 0 0 0 0 0 0 0 0 1 1 1 1 1 1 1 1 1 1 1 1 1\n",
      " 1 1 1 1 1 1 1 0 0 0 0 0 0 0 0 1 1 1 1 1 1 1 1 1 1 1 1 1 1 1 1 1 1 1 1 0 0\n",
      " 0 0 0 0 0 0 1 1 1 1 1 1 1 1 0 0 0 0 1 1 1 1 1 1 1 1 0 0 0 0 0 0 0 0 1 1 1\n",
      " 1 1 1 1 1 0 0 0 0 1 1 1 1 1 1 1 1 0 0 0 0 0 0 0 0 1 1 1 1 1 1 1 1 0 0 0 0\n",
      " 1 1 1 1 1 1 1 1 0 0 0 0 0 0 0 0 1 1 1 1 1 1 1 1 0 0 0 0 1 1 1 1 1 1 1 1 0\n",
      " 0 0 0 0 0 0 0 0 0 0 0 1 1 1 1 1 1 1 1 1 1 1 1 1 1 1 1 0 0 0 0 0 0 0 0 0 0\n",
      " 0 0 1 1 1 1 1 1 1 1 1 1 1 1 1 1 1 1 0 0 0 0 0 0 0 0 0 0 0 0 1 1 1 1 1 1 1\n",
      " 1 1 1 1 1 1 1 1 1 0 0 0 0 0 0 0 0 0 0 0 0 1 1 1 1 1 1 1 1 1 1 1 1 1 1 1 1\n",
      " 0 0 0 0 0 0 0 0 0 0 0 0 0 0 0 0 0 0 0 0 1 1 1 1 0 0 0 0 0 0 0 0 0 0 0 0 0\n",
      " 0 0 0 0 0 0 0 0 0 0 0 1 1 1 1 0 0 0 0 0 0 0 0 0 0 0 0 0 0 0 0 0 0 0 0 0 0\n",
      " 0 0 1 1 1 1 0 0 0 0 0 0 0 0 0 0 0 0 0 0 0 0 0 0 0 0 0 0 0 0 1 1 1 1 0 0 0\n",
      " 0 0 0 0 0 0 0 0 0 0 0 0 0 0 0 0 0 0 0 0 0 1 1 1 1 0 0 0 0 0 0 0 0 0 0 0 0\n",
      " 0 0 0 0 0 0 0 0 0 0 0 0 1 1 1 1 0 0 0 0 0 0 0 0 0 0 0 0 0 0 0 0 0 0 0 0 0\n",
      " 0 0 0 1 1 1 1 0 0 0 0 0 0 0 0 0 0 0 0 0 0 0 0 0 0 0 0 0 0 0 0 1 1 1 1 0 0\n",
      " 0 0 0 0 0 0 0 0 0 0 0 0 0 0 0 0 0 0 0 0 0 0 0 0 0 0 0 0 0 0 0 0 0 0 0 0 0\n",
      " 0 0 0 0 0 0 0 0 0 0 0 0 0 0 0 0 0 0 0 0 0 0 0 0 0 0 0 0 0 0 0 0 0 0 0 0 0\n",
      " 0 0 0 0 0 0 0 0 0 0 0 0 0 0 0 0 0 0 0 0 0 0 0 0 0 0 0 0 0 0 0 0 0 0 0 0 0\n",
      " 0 0 0 0 0 0 0]\n"
     ]
    },
    {
     "data": {
      "text/plain": [
       "<matplotlib.image.AxesImage at 0x7f5ca3032080>"
      ]
     },
     "execution_count": 22,
     "metadata": {},
     "output_type": "execute_result"
    },
    {
     "data": {
      "image/png": "[encoded data removed]",
      "text/plain": [
       "<Figure size 640x480 with 1 Axes>"
      ]
     },
     "metadata": {},
     "output_type": "display_data"
    }
   ],
   "source": [
    "# for fun, can it recognize 4?\n",
    "m = [[0,0,0,0,0,0,0],\n",
    "     [0,1,1,1,1,1,0],\n",
    "     [0,1,1,0,1,1,0],\n",
    "     [0,0,1,1,1,1,0],\n",
    "     [0,0,0,0,1,0,0],\n",
    "     [0,0,0,0,1,0,0],\n",
    "     [0,0,0,0,0,0,0]]\n",
    "# upscale to 28x28\n",
    "m = np.concatenate([np.concatenate([[x]*4 for x in y]*4) for y in m])\n",
    "print(m)\n",
    "imshow(m.reshape(28,28))"
   ]
  },
  {
   "cell_type": "code",
   "execution_count": 8,
   "metadata": {
    "collapsed": false,
    "jupyter": {
     "outputs_hidden": false
    }
   },
   "outputs": [
    {
     "name": "stdout",
     "output_type": "stream",
     "text": [
      "[-0.01659154 -0.04620602 -0.03167888  0.0258111   0.02656269 -0.00290025\n",
      " -0.06295169  0.0345152   0.05555209  0.05815995]\n"
     ]
    },
    {
     "data": {
      "text/plain": [
       "9"
      ]
     },
     "execution_count": 8,
     "metadata": {},
     "output_type": "execute_result"
    }
   ],
   "source": [
    "\n",
    "x = forward(m)\n",
    "print(x)\n",
    "np.argmax(x)"
   ]
  },
  {
   "cell_type": "code",
   "execution_count": 256,
   "metadata": {
    "collapsed": false,
    "jupyter": {
     "outputs_hidden": false
    }
   },
   "outputs": [],
   "source": [
    "def torch_logsoftmax(input_vectors, target_vectors):\n",
    "    input_tensor = torch.tensor(input_vectors, requires_grad=True)\n",
    "    target_vector = torch.tensor(target_vectors)\n",
    "    logsoftmax_result = torch.nn.functional.log_softmax(input_tensor, dim=-1)\n",
    "    logsoftmax_result.backward(target_vector)\n",
    "    logsoftmax_value = logsoftmax_result.detach().numpy()\n",
    "    derivative_value = input_tensor.grad.detach().numpy()\n",
    "    return logsoftmax_value, derivative_value\n"
   ]
  },
  {
   "cell_type": "code",
   "execution_count": 355,
   "metadata": {
    "collapsed": false,
    "jupyter": {
     "outputs_hidden": false
    }
   },
   "outputs": [],
   "source": [
    "def logsoftmax_numpy(x):\n",
    "    max_x = np.max(x, axis=-1, keepdims=True)\n",
    "    logsoftmax_x = x - max_x - np.log(np.sum(np.exp(x - max_x), axis=-1, keepdims=True))\n",
    "    return logsoftmax_x\n",
    "\n",
    "def logsoftmax_derivative_numpy(x, target):\n",
    "    softmax_x = np.exp(x - np.max(x, axis=-1, keepdims=True))\n",
    "    softmax_sum = np.sum(softmax_x, axis=-1, keepdims=True)\n",
    "    softmax = softmax_x / softmax_sum\n",
    "    n = x.shape[-1]\n",
    "    delta_ij = np.eye(n)\n",
    "    softmax_matrix = np.repeat(softmax[:, np.newaxis, :], n, axis=1)\n",
    "    derivative = delta_ij - softmax_matrix\n",
    "    gradient = (derivative.transpose(0, 2, 1) * target[:, np.newaxis, :]).sum(axis=-1)\n",
    "    return gradient"
   ]
  },
  {
   "cell_type": "code",
   "execution_count": 356,
   "metadata": {
    "collapsed": false,
    "jupyter": {
     "outputs_hidden": false
    }
   },
   "outputs": [],
   "source": [
    "input_vector = np.array([[1.0, 2.0, 3.0]])\n",
    "target_vector = np.array([[1.0, 3.0, 2.0]])"
   ]
  },
  {
   "cell_type": "code",
   "execution_count": 357,
   "metadata": {
    "collapsed": false,
    "jupyter": {
     "outputs_hidden": false
    }
   },
   "outputs": [
    {
     "data": {
      "text/plain": [
       "(array([[-2.40760596, -1.40760596, -0.40760596]]),\n",
       " array([[ 0.45981656,  1.53162917, -1.99144573]]))"
      ]
     },
     "execution_count": 357,
     "metadata": {},
     "output_type": "execute_result"
    }
   ],
   "source": [
    "torch_logsoftmax(input_vector, target_vector)"
   ]
  },
  {
   "cell_type": "code",
   "execution_count": 358,
   "metadata": {
    "collapsed": false,
    "jupyter": {
     "outputs_hidden": false
    }
   },
   "outputs": [
    {
     "data": {
      "text/plain": [
       "(array([[-2.40760596, -1.40760596, -0.40760596]]),\n",
       " array([[ 0.45981656,  1.53162917, -1.99144573]]))"
      ]
     },
     "execution_count": 358,
     "metadata": {},
     "output_type": "execute_result"
    }
   ],
   "source": [
    "logsoftmax_result = logsoftmax_numpy(input_vector)\n",
    "derivative_result = logsoftmax_derivative_numpy(input_vector, target_vector)\n",
    "(logsoftmax_result, derivative_result)"
   ]
  },
  {
   "cell_type": "code",
   "execution_count": 359,
   "metadata": {
    "collapsed": false,
    "jupyter": {
     "outputs_hidden": false
    }
   },
   "outputs": [],
   "source": [
    "input_vectors = np.array([[1.0, 2.0, 3.0, 0.0],\n",
    "                          [1.0, 3.0, 9.0, 0.0],\n",
    "                          [4.0, 9.0, 2.0, 0.0],\n",
    "                          [0.0, 4.0, 3.0, 0.0],])\n",
    "# Target vector\n",
    "target_vectors = np.array([[1.0, 3.0, 2.0, 2.0],\n",
    "                          [1.0, -4.0, -10.0, 3.0],\n",
    "                          [3.0, 8.0, 2.0, 1.0],\n",
    "                          [0.0, 4.0, 3.0, 1.0]])  # Corrected target\n"
   ]
  },
  {
   "cell_type": "code",
   "execution_count": 360,
   "metadata": {
    "collapsed": false,
    "jupyter": {
     "outputs_hidden": false
    }
   },
   "outputs": [
    {
     "data": {
      "text/plain": [
       "(array([[-2.4401897 , -1.4401897 , -0.4401897 , -3.4401897 ],\n",
       "        [-8.00293332, -6.00293332, -0.00293332, -9.00293332],\n",
       "        [-5.00774318, -0.00774318, -7.00774318, -9.00774318],\n",
       "        [-4.339689  , -0.339689  , -1.339689  , -4.339689  ]]),\n",
       " array([[ 0.30284545,  1.10493746, -3.15131408,  1.74353117],\n",
       "        [ 1.0033448 , -3.97528508, -0.0292902 ,  3.00123048],\n",
       "        [ 2.90639635, -5.89201406,  1.98733212,  0.99828559],\n",
       "        [-0.10432467, -1.69593375,  0.90458308,  0.89567533]]))"
      ]
     },
     "execution_count": 360,
     "metadata": {},
     "output_type": "execute_result"
    }
   ],
   "source": [
    "torch_logsoftmax(input_vectors, target_vectors)"
   ]
  },
  {
   "cell_type": "code",
   "execution_count": 361,
   "metadata": {
    "collapsed": false,
    "jupyter": {
     "outputs_hidden": false
    }
   },
   "outputs": [
    {
     "data": {
      "text/plain": [
       "(array([[-2.4401897 , -1.4401897 , -0.4401897 , -3.4401897 ],\n",
       "        [-8.00293332, -6.00293332, -0.00293332, -9.00293332],\n",
       "        [-5.00774318, -0.00774318, -7.00774318, -9.00774318],\n",
       "        [-4.339689  , -0.339689  , -1.339689  , -4.339689  ]]),\n",
       " array([[ 0.30284545,  1.10493746, -3.15131408,  1.74353117],\n",
       "        [ 1.0033448 , -3.97528508, -0.0292902 ,  3.00123048],\n",
       "        [ 2.90639635, -5.89201406,  1.98733212,  0.99828559],\n",
       "        [-0.10432467, -1.69593375,  0.90458308,  0.89567533]]))"
      ]
     },
     "execution_count": 361,
     "metadata": {},
     "output_type": "execute_result"
    }
   ],
   "source": [
    "logsoftmax_result = logsoftmax_numpy(input_vectors)\n",
    "derivative_result = logsoftmax_derivative_numpy(input_vectors, target_vectors)\n",
    "(logsoftmax_result, derivative_result)"
   ]
  },
  {
   "cell_type": "code",
   "execution_count": 362,
   "metadata": {
    "collapsed": false,
    "jupyter": {
     "outputs_hidden": false
    }
   },
   "outputs": [],
   "source": [
    "def torch_relu(input_vectors, target_vectors):\n",
    "    input_tensor = torch.tensor(input_vectors, requires_grad=True)\n",
    "    target_vector = torch.tensor(target_vectors)\n",
    "    relu_result = torch.nn.functional.relu(input_tensor)\n",
    "    relu_result.backward(target_vector)\n",
    "    relu_value = relu_result.detach().numpy()\n",
    "    derivative_value = input_tensor.grad.detach().numpy()\n",
    "    return relu_value, derivative_value\n"
   ]
  },
  {
   "cell_type": "code",
   "execution_count": 363,
   "metadata": {
    "collapsed": false,
    "jupyter": {
     "outputs_hidden": false
    }
   },
   "outputs": [],
   "source": [
    "def relu_numpy(x):\n",
    "    return np.maximum(x, 0)\n",
    "\n",
    "def relu_derivative_numpy(x, target):\n",
    "    return (x > 0) * target"
   ]
  },
  {
   "cell_type": "code",
   "execution_count": 364,
   "metadata": {
    "collapsed": false,
    "jupyter": {
     "outputs_hidden": false
    }
   },
   "outputs": [
    {
     "data": {
      "text/plain": [
       "(array([[1., 2., 3., 0.],\n",
       "        [1., 3., 9., 0.],\n",
       "        [4., 9., 2., 0.],\n",
       "        [0., 4., 3., 0.]]),\n",
       " array([[  1.,   3.,   2.,   0.],\n",
       "        [  1.,  -4., -10.,   0.],\n",
       "        [  3.,   8.,   2.,   0.],\n",
       "        [  0.,   4.,   3.,   0.]]))"
      ]
     },
     "execution_count": 364,
     "metadata": {},
     "output_type": "execute_result"
    }
   ],
   "source": [
    "torch_relu(input_vectors, target_vectors)"
   ]
  },
  {
   "cell_type": "code",
   "execution_count": 365,
   "metadata": {
    "collapsed": false,
    "jupyter": {
     "outputs_hidden": false
    }
   },
   "outputs": [
    {
     "data": {
      "text/plain": [
       "(array([[1., 2., 3., 0.],\n",
       "        [1., 3., 9., 0.],\n",
       "        [4., 9., 2., 0.],\n",
       "        [0., 4., 3., 0.]]),\n",
       " array([[  1.,   3.,   2.,   0.],\n",
       "        [  1.,  -4., -10.,   0.],\n",
       "        [  3.,   8.,   2.,   0.],\n",
       "        [  0.,   4.,   3.,   0.]]))"
      ]
     },
     "execution_count": 365,
     "metadata": {},
     "output_type": "execute_result"
    }
   ],
   "source": [
    "relu_result = relu_numpy(input_vectors)\n",
    "derivative_result = relu_derivative_numpy(input_vectors, target_vectors)\n",
    "(relu_result, derivative_result)"
   ]
  },
  {
   "cell_type": "code",
   "execution_count": null,
   "metadata": {
    "collapsed": false,
    "jupyter": {
     "outputs_hidden": false
    }
   },
   "outputs": [],
   "source": []
  }
 ],
 "metadata": {
  "kernelspec": {
   "display_name": "Python 3 (ipykernel)",
   "language": "python",
   "name": "python3"
  },
  "language_info": {
   "codemirror_mode": {
    "name": "ipython",
    "version": 3
   },
   "file_extension": ".py",
   "mimetype": "text/x-python",
   "name": "python",
   "nbconvert_exporter": "python",
   "pygments_lexer": "ipython3",
   "version": "3.10.10"
  },
  "name": "mnist_from_scratch.ipynb"
 },
 "nbformat": 4,
 "nbformat_minor": 4
}
